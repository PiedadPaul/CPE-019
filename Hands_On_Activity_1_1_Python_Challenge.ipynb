{
  "nbformat": 4,
  "nbformat_minor": 0,
  "metadata": {
    "kernelspec": {
      "display_name": "Python 3",
      "language": "python",
      "name": "python3"
    },
    "language_info": {
      "codemirror_mode": {
        "name": "ipython",
        "version": 3
      },
      "file_extension": ".py",
      "mimetype": "text/x-python",
      "name": "python",
      "nbconvert_exporter": "python",
      "pygments_lexer": "ipython3",
      "version": "3.7.7"
    },
    "colab": {
      "provenance": []
    },
    "accelerator": "GPU"
  },
  "cells": [
    {
      "cell_type": "markdown",
      "metadata": {
        "id": "WUQHSYAH8A15"
      },
      "source": [
        "\n",
        "| <h1> Activity 1.1 </h1> | <h1> Python Challenge </h1> |\n",
        "|--- | --- |\n",
        "Name: Piedad, Paul Levy B.\n",
        "Course and Section: CPE019S3 <br>\n",
        "Date Submitted: 24/01/2024\n",
        "Instructor:\n",
        "Date Performed:\n",
        "Date Submitted\n",
        "\n",
        "<hr>\n",
        "\n",
        "**Instructions**: Answer the questions or complete the tasks outlined below, use the specific method described if applicable. Insert a code cell after each text cell.\n",
        "\n",
        "**Objectives:**\n",
        "- Test understanding of Python basics\n",
        "- Review Python basic to intermediate commands\n",
        "\n",
        "<hr>"
      ]
    },
    {
      "cell_type": "markdown",
      "metadata": {
        "id": "-7dT6HEt8A1_"
      },
      "source": [
        "1. What is 3 to the power of 5?"
      ]
    },
    {
      "cell_type": "code",
      "source": [
        " 3**5"
      ],
      "metadata": {
        "id": "CiAIi_wlM23B",
        "colab": {
          "base_uri": "https://localhost:8080/"
        },
        "outputId": "e2bf83ef-659a-485c-d033-483988af5c27"
      },
      "execution_count": null,
      "outputs": [
        {
          "output_type": "execute_result",
          "data": {
            "text/plain": [
              "243"
            ]
          },
          "metadata": {},
          "execution_count": 1
        }
      ]
    },
    {
      "cell_type": "markdown",
      "metadata": {
        "id": "TpUg2QaM8A2C"
      },
      "source": [
        "2.  Create a variable, s, containing the string \"This course is amazing!\". Using the variable, split the string into a list."
      ]
    },
    {
      "cell_type": "code",
      "source": [
        "s = \"This course is amazing!\"\n",
        "s.split()"
      ],
      "metadata": {
        "id": "AmSwowsTCUwA",
        "outputId": "afe5fc34-c15f-474b-8bc6-6596e47fea15",
        "colab": {
          "base_uri": "https://localhost:8080/"
        }
      },
      "execution_count": null,
      "outputs": [
        {
          "output_type": "execute_result",
          "data": {
            "text/plain": [
              "['This', 'course', 'is', 'amazing!']"
            ]
          },
          "metadata": {},
          "execution_count": 3
        }
      ]
    },
    {
      "cell_type": "markdown",
      "metadata": {
        "id": "B3yPY5pD8A2D"
      },
      "source": [
        "3.  Given the variables height and mountain, use .format() to print the following string:\n",
        "`The height of Mt. Everest is 8848 meters.`"
      ]
    },
    {
      "cell_type": "code",
      "source": [
        "a = \"The height of Mt. Everest is 8848 meters.\"\n",
        "a.format()"
      ],
      "metadata": {
        "colab": {
          "base_uri": "https://localhost:8080/",
          "height": 36
        },
        "id": "PfvjFrxlEoto",
        "outputId": "206b5838-dd37-422e-b78e-6376e9d02295"
      },
      "execution_count": null,
      "outputs": [
        {
          "output_type": "execute_result",
          "data": {
            "text/plain": [
              "'The height of Mt. Everest is 8848 meters.'"
            ],
            "application/vnd.google.colaboratory.intrinsic+json": {
              "type": "string"
            }
          },
          "metadata": {},
          "execution_count": 8
        }
      ]
    },
    {
      "cell_type": "markdown",
      "metadata": {
        "id": "WPFy00ne8A2F"
      },
      "source": [
        "4. Given the following nested list, use indexing to grab the word \"this\".\n",
        "\n",
        "```\n",
        "lst = ['a','b',[4,10,11],['c',[1,66,['this']],2,111],'e',7]\n",
        "```"
      ]
    },
    {
      "cell_type": "code",
      "source": [
        "lst = ['a','b',[4,10,11],['c',[1,66,['this']],2,111],'e',7]\n",
        "print(lst[-3][-3][-1][-1])"
      ],
      "metadata": {
        "colab": {
          "base_uri": "https://localhost:8080/"
        },
        "id": "w8szqWu9Fa0O",
        "outputId": "988f8844-0b97-4590-8bf2-d52e3e5a2e35"
      },
      "execution_count": null,
      "outputs": [
        {
          "output_type": "stream",
          "name": "stdout",
          "text": [
            "this\n"
          ]
        }
      ]
    },
    {
      "cell_type": "markdown",
      "metadata": {
        "id": "cUA9kmWi8A2H"
      },
      "source": [
        "5. Given the following nested dictionary, grab the word \"that\". This exercise is a little more difficult.\n",
        "```\n",
        "d = {'k1':['val1','val2','val3',{'we':['need','to','go',{'deeper':[1,2,3,'that']}]}]}\n",
        "```"
      ]
    },
    {
      "cell_type": "code",
      "source": [
        "d = {'k1':['val1','val2','val3',{'we':['need','to','go',{'deeper':[1,2,3,'that']}]}]}\n",
        "print(d['k1'][3]['we'][3]['deeper'][3])"
      ],
      "metadata": {
        "colab": {
          "base_uri": "https://localhost:8080/"
        },
        "id": "qI-hwvq2FlIO",
        "outputId": "d705550f-96cf-4cf2-aa20-ee873fe604e5"
      },
      "execution_count": null,
      "outputs": [
        {
          "output_type": "stream",
          "name": "stdout",
          "text": [
            "that\n"
          ]
        }
      ]
    },
    {
      "cell_type": "markdown",
      "metadata": {
        "id": "-WrAu-KK8A2I"
      },
      "source": [
        "6. Create a function, GetDomain(), that grabs the email website domain from a string in the form: user@domain.com.\n",
        "So for example, passing \"user@domain.com\" would return: domain.com"
      ]
    },
    {
      "cell_type": "code",
      "source": [
        "def GetDomain(mail):\n",
        "part = mail.split(\"@\")\n",
        "\n",
        "if len(part)== 2:\n",
        "  return part[1]\n",
        "\n",
        "email_address = \"user@domain.com\"\n",
        "output = GetDomain(email_address)\n",
        "print(\"Domain:\", output)"
      ],
      "metadata": {
        "colab": {
          "base_uri": "https://localhost:8080/",
          "height": 182
        },
        "id": "zaEHeVV_PKMw",
        "outputId": "bfbfdece-438b-4d5c-bee6-5b992d464285"
      },
      "execution_count": null,
      "outputs": [
        {
          "output_type": "error",
          "ename": "IndentationError",
          "evalue": "expected an indented block after function definition on line 1 (<ipython-input-95-00b9c85df840>, line 2)",
          "traceback": [
            "\u001b[0;36m  File \u001b[0;32m\"<ipython-input-95-00b9c85df840>\"\u001b[0;36m, line \u001b[0;32m2\u001b[0m\n\u001b[0;31m    part = mail.split(\"@\")\u001b[0m\n\u001b[0m    ^\u001b[0m\n\u001b[0;31mIndentationError\u001b[0m\u001b[0;31m:\u001b[0m expected an indented block after function definition on line 1\n"
          ]
        }
      ]
    },
    {
      "cell_type": "code",
      "source": [],
      "metadata": {
        "id": "X4dVlExNhPLA"
      },
      "execution_count": null,
      "outputs": []
    },
    {
      "cell_type": "markdown",
      "metadata": {
        "id": "Fx4DIIz18A2K"
      },
      "source": [
        "7. Create a basic function, findInternet(), that returns True if the word 'Internet' is contained in the input string. Don't worry about edge cases like punctuation being attached to the word, but account for capitalization. (Hint: Please see https://docs.python.org/2/reference/expressions.html#in)"
      ]
    },
    {
      "cell_type": "code",
      "source": [
        "findInternet"
      ],
      "metadata": {
        "id": "E9HIQQprHb8A"
      },
      "execution_count": null,
      "outputs": []
    },
    {
      "cell_type": "markdown",
      "metadata": {
        "id": "4pPortmo8A2M"
      },
      "source": [
        "8. Create a function, countIoT(), that counts the number of times the word \"IoT\" occurs in a string. Ignore edge cases but take into account capitalization."
      ]
    },
    {
      "cell_type": "code",
      "source": [
        "def countIoT(input_string):\n",
        "  return input_string.count(\"IoT\")\n",
        "input = \"IoT IoT and IoT, iot, iot, or iot, last IoT\"\n",
        "output = countIoT(input)\n",
        "print(output)\n"
      ],
      "metadata": {
        "colab": {
          "base_uri": "https://localhost:8080/"
        },
        "id": "nf6OtxRZZ7y4",
        "outputId": "31a11ea5-93ed-4f2a-8ec2-d2a73226c8f1"
      },
      "execution_count": null,
      "outputs": [
        {
          "output_type": "stream",
          "name": "stdout",
          "text": [
            "4\n"
          ]
        }
      ]
    },
    {
      "cell_type": "code",
      "source": [
        "txt = \"I love apples, apple are my favorite fruit\"\n",
        "\n",
        "x = txt.count(\"apple\")\n",
        "\n",
        "print(x)"
      ],
      "metadata": {
        "colab": {
          "base_uri": "https://localhost:8080/"
        },
        "id": "fFjLPYi1faAo",
        "outputId": "b8e5cffe-3320-4b7a-9532-aec21bc2b0ef"
      },
      "execution_count": null,
      "outputs": [
        {
          "output_type": "stream",
          "name": "stdout",
          "text": [
            "2\n"
          ]
        }
      ]
    },
    {
      "cell_type": "markdown",
      "metadata": {
        "id": "Hg-mqSUd8A2O"
      },
      "source": [
        "9. Use lambda expressions and the filter() function to filter out words from a list that do not start with the letter 'd'. For example:\n",
        "```\n",
        "seq = ['data','salt' ,'dairy','cat', 'dog']\n",
        "```\n",
        "should be filtered down to:\n",
        "```\n",
        "['data', 'dairy', 'dog']\n",
        "```"
      ]
    },
    {
      "cell_type": "markdown",
      "metadata": {
        "id": "i5HTJZtM8A2O"
      },
      "source": [
        "10. Use lambda expressions and the map() function to convert a list of words to upper case. For example:\n",
        "```\n",
        "seq = ['data','salt' ,'dairy','cat', 'dog']\n",
        "```\n",
        "should become:\n",
        "```\n",
        "['DATA', 'SALT', 'DAIRY', 'CAT', 'DOG']\n",
        "```"
      ]
    },
    {
      "cell_type": "markdown",
      "metadata": {
        "id": "1t6lwmWv8A2Q"
      },
      "source": [
        "11. Imagine a smart thermostat that is connected to the door, so that it can detect, in addition to the temperature, when people enter or leave the house. <br><br>Write a function that, if the temperature is lower than 20 degrees Celsius, and there are people in the house (encoded as a boolean value to be passed as a parameter to the function), turns on the heating by returning the string \"Heating on\". When the temperature reaches 23 degrees or there are no people in the house, it returns the string \"Heating off\". When none of these conditions are met, the function returns \"Do nothing\"."
      ]
    },
    {
      "cell_type": "code",
      "source": [
        "temp = int(input(\"Temperature \"))\n",
        "people = int(input(\"Number of present People in the House \"))\n",
        "if temp <= 19 and people >= 1:\n",
        "  print(\"Heating on\")\n",
        "elif temp >= 23 and people <= 0:\n",
        "  print(\"Heating off\")\n",
        "else:\n",
        "  print(\"do nothing\")"
      ],
      "metadata": {
        "colab": {
          "base_uri": "https://localhost:8080/"
        },
        "id": "VO8pPMJjTbOw",
        "outputId": "6121a4d8-413e-4c77-9252-9652593b5e12"
      },
      "execution_count": null,
      "outputs": [
        {
          "output_type": "stream",
          "name": "stdout",
          "text": [
            "Temperature 23\n",
            "Number of present People in the House 0\n",
            "Heating off\n"
          ]
        }
      ]
    },
    {
      "cell_type": "markdown",
      "metadata": {
        "id": "HvZXBwvn8A2S"
      },
      "source": [
        "12. The function zip(list1, list2) returns a list of tuples, where the i-th tuple contains the i-th element from each of the argument lists. Use the zip function to create the following list of tuples: <br>\n",
        "```\n",
        "zipped = [('Parking', -1), ('Shops',0), ('Food Court',1), ('Offices',2)]\n",
        "```"
      ]
    },
    {
      "cell_type": "code",
      "metadata": {
        "id": "BmMSb6ys8A2T"
      },
      "source": [
        "# Code cell 13\n",
        "floor_types = ['Parking', 'Shops', 'Food Court', 'Offices']\n",
        "floor_numbers = range(-1,3)\n",
        "#zipped = list(...)\n",
        "print(zipped)"
      ],
      "execution_count": null,
      "outputs": []
    },
    {
      "cell_type": "markdown",
      "metadata": {
        "id": "I25Wddbt8A2U"
      },
      "source": [
        "13. Use the zip function and dict() to create a dictionary, elevator_dict, where the keys are the floor types and the values are the corresponding floor number so that:<br>\n",
        "```\n",
        "elevator_dict[-1] = 'Parking'\n",
        "```"
      ]
    },
    {
      "cell_type": "code",
      "metadata": {
        "id": "aalDO_TQ8A2U"
      },
      "source": [
        "# Code cell 14\n",
        "floor_types = ['Parking', 'Shops', 'Food Court', 'Offices']\n",
        "floors_numbers = range(-1,3)\n",
        "#elevator_dict = dict(...)\n",
        "print(elevator_dict)"
      ],
      "execution_count": null,
      "outputs": []
    },
    {
      "cell_type": "code",
      "metadata": {
        "id": "qExH72Zv8A2V"
      },
      "source": [
        "# Code cell 15\n",
        "# Verify elevator_dict[-1]\n",
        "elevator_dict[-1]"
      ],
      "execution_count": null,
      "outputs": []
    },
    {
      "cell_type": "markdown",
      "metadata": {
        "id": "DXXKXxFv8A2V"
      },
      "source": [
        "14. Create an Elevator class. The constructor accepts the list of strings floor_types and the list of integers floor_numbers. The class implements the methods 'ask_which_floor' and 'go_to_floor'. The output of this methods should look as follows:\n",
        "```\n",
        "floor_types = ['Parking', 'Shops', 'Food Court', 'Offices']\n",
        "floors_numbers = range(-1,4)\n",
        "el = Elevator(floor_numbers, floor_types)\n",
        "el.go_to_floor(1)\n",
        "Going to Food Court floor!\n",
        "el.go_to_floor(-2)\n",
        "There is floor number -2 in this building.\n",
        "el.ask_which_floor('Offices')\n",
        "The floor Offices is the number: 2\n",
        "el.ask_which_floor('Swimming Pool')\n",
        "There is no Swimming Pool floor in this building.\n",
        "```"
      ]
    },
    {
      "cell_type": "markdown",
      "metadata": {
        "id": "a--gPBSR8A2Z"
      },
      "source": [
        "### Good Job!"
      ]
    }
  ]
}